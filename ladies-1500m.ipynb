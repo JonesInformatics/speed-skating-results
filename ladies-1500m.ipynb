{
 "cells": [
  {
   "cell_type": "markdown",
   "metadata": {},
   "source": [
    " # 2019-2020 Ladies 1500 Meter Results  Testing\n",
    " Dataset includes personal best for every skater in the 2019-2020 season for 1500 m."
   ]
  },
  {
   "cell_type": "code",
   "execution_count": 1,
   "metadata": {},
   "outputs": [],
   "source": [
    "import pandas as pd\n",
    "import matplotlib.pyplot as plt\n",
    "import seaborn as sns\n",
    "import datetime as datetime\n",
    "import math\n",
    "from datetime import datetime\n",
    "from datetime import timedelta"
   ]
  },
  {
   "cell_type": "code",
   "execution_count": 2,
   "metadata": {},
   "outputs": [
    {
     "output_type": "execute_result",
     "data": {
      "text/plain": "  rank                               name  age country     time  \\\n0    1  Miho Takagi                        LSA     JPN  1:50:33   \n1    2  Ireen Wüst                         L30     NED  1:50:92   \n2    3  Evgeniia Lalenkova                 LSA     RUS  1:51:13   \n3    4  Elizaveta Kazelina                 LN4     RUS  1:51:41   \n4    5  Ivanie Blondin                     L30     CAN  1:51:76   \n\n                       track       date  \n0  Calgary (CAN)               2/8/2020  \n1  Salt Lake City (USA)       2/16/2020  \n2  Salt Lake City (USA)       2/16/2020  \n3  Salt Lake City (USA)       2/16/2020  \n4  Calgary (CAN)               2/8/2020  ",
      "text/html": "<div>\n<style scoped>\n    .dataframe tbody tr th:only-of-type {\n        vertical-align: middle;\n    }\n\n    .dataframe tbody tr th {\n        vertical-align: top;\n    }\n\n    .dataframe thead th {\n        text-align: right;\n    }\n</style>\n<table border=\"1\" class=\"dataframe\">\n  <thead>\n    <tr style=\"text-align: right;\">\n      <th></th>\n      <th>rank</th>\n      <th>name</th>\n      <th>age</th>\n      <th>country</th>\n      <th>time</th>\n      <th>track</th>\n      <th>date</th>\n    </tr>\n  </thead>\n  <tbody>\n    <tr>\n      <th>0</th>\n      <td>1</td>\n      <td>Miho Takagi</td>\n      <td>LSA</td>\n      <td>JPN</td>\n      <td>1:50:33</td>\n      <td>Calgary (CAN)</td>\n      <td>2/8/2020</td>\n    </tr>\n    <tr>\n      <th>1</th>\n      <td>2</td>\n      <td>Ireen Wüst</td>\n      <td>L30</td>\n      <td>NED</td>\n      <td>1:50:92</td>\n      <td>Salt Lake City (USA)</td>\n      <td>2/16/2020</td>\n    </tr>\n    <tr>\n      <th>2</th>\n      <td>3</td>\n      <td>Evgeniia Lalenkova</td>\n      <td>LSA</td>\n      <td>RUS</td>\n      <td>1:51:13</td>\n      <td>Salt Lake City (USA)</td>\n      <td>2/16/2020</td>\n    </tr>\n    <tr>\n      <th>3</th>\n      <td>4</td>\n      <td>Elizaveta Kazelina</td>\n      <td>LN4</td>\n      <td>RUS</td>\n      <td>1:51:41</td>\n      <td>Salt Lake City (USA)</td>\n      <td>2/16/2020</td>\n    </tr>\n    <tr>\n      <th>4</th>\n      <td>5</td>\n      <td>Ivanie Blondin</td>\n      <td>L30</td>\n      <td>CAN</td>\n      <td>1:51:76</td>\n      <td>Calgary (CAN)</td>\n      <td>2/8/2020</td>\n    </tr>\n  </tbody>\n</table>\n</div>"
     },
     "metadata": {},
     "execution_count": 2
    }
   ],
   "source": [
    "# Load Data\n",
    "results = pd.read_csv('ladies-1500-2019-2020.csv')\n",
    "results.sample(5)\n",
    "\n",
    "#Drop Null Values\n",
    "\n",
    "results = results.dropna()\n",
    "\n",
    "#Convert time to proper form and cast to float\n",
    "results['time']= results['time'].str.replace('.', ':')\n",
    "\n",
    "results['time']= results['time'].str.replace(',', ':')\n",
    "results['time']= results['time'].str.replace(' ', '')\n",
    "results.head()\n",
    "#results.to_csv('converted_time.csv')"
   ]
  },
  {
   "cell_type": "code",
   "execution_count": 18,
   "metadata": {},
   "outputs": [
    {
     "output_type": "execute_result",
     "data": {
      "text/plain": "   Unnamed: 0  rank                               name  age country      time  \\\n0           0     1  Miho Takagi                        LSA     JPN   1:50:33   \n1           1     2  Ireen Wüst                         L30     NED   1:50:92   \n2           2     3  Evgeniia Lalenkova                 LSA     RUS   1:51:13   \n3           3     4  Elizaveta Kazelina                 LN4     RUS   1:51:41   \n4           4     5  Ivanie Blondin                     L30     CAN   1:51:76   \n\n                       track       date  \n0  Calgary (CAN)               2/8/2020  \n1  Salt Lake City (USA)       2/16/2020  \n2  Salt Lake City (USA)       2/16/2020  \n3  Salt Lake City (USA)       2/16/2020  \n4  Calgary (CAN)               2/8/2020  ",
      "text/html": "<div>\n<style scoped>\n    .dataframe tbody tr th:only-of-type {\n        vertical-align: middle;\n    }\n\n    .dataframe tbody tr th {\n        vertical-align: top;\n    }\n\n    .dataframe thead th {\n        text-align: right;\n    }\n</style>\n<table border=\"1\" class=\"dataframe\">\n  <thead>\n    <tr style=\"text-align: right;\">\n      <th></th>\n      <th>Unnamed: 0</th>\n      <th>rank</th>\n      <th>name</th>\n      <th>age</th>\n      <th>country</th>\n      <th>time</th>\n      <th>track</th>\n      <th>date</th>\n    </tr>\n  </thead>\n  <tbody>\n    <tr>\n      <th>0</th>\n      <td>0</td>\n      <td>1</td>\n      <td>Miho Takagi</td>\n      <td>LSA</td>\n      <td>JPN</td>\n      <td>1:50:33</td>\n      <td>Calgary (CAN)</td>\n      <td>2/8/2020</td>\n    </tr>\n    <tr>\n      <th>1</th>\n      <td>1</td>\n      <td>2</td>\n      <td>Ireen Wüst</td>\n      <td>L30</td>\n      <td>NED</td>\n      <td>1:50:92</td>\n      <td>Salt Lake City (USA)</td>\n      <td>2/16/2020</td>\n    </tr>\n    <tr>\n      <th>2</th>\n      <td>2</td>\n      <td>3</td>\n      <td>Evgeniia Lalenkova</td>\n      <td>LSA</td>\n      <td>RUS</td>\n      <td>1:51:13</td>\n      <td>Salt Lake City (USA)</td>\n      <td>2/16/2020</td>\n    </tr>\n    <tr>\n      <th>3</th>\n      <td>3</td>\n      <td>4</td>\n      <td>Elizaveta Kazelina</td>\n      <td>LN4</td>\n      <td>RUS</td>\n      <td>1:51:41</td>\n      <td>Salt Lake City (USA)</td>\n      <td>2/16/2020</td>\n    </tr>\n    <tr>\n      <th>4</th>\n      <td>4</td>\n      <td>5</td>\n      <td>Ivanie Blondin</td>\n      <td>L30</td>\n      <td>CAN</td>\n      <td>1:51:76</td>\n      <td>Calgary (CAN)</td>\n      <td>2/8/2020</td>\n    </tr>\n  </tbody>\n</table>\n</div>"
     },
     "metadata": {},
     "execution_count": 18
    }
   ],
   "source": [
    "df = pd.read_csv('converted_time.csv')\n",
    "df.head()"
   ]
  },
  {
   "cell_type": "code",
   "execution_count": 3,
   "metadata": {},
   "outputs": [
    {
     "output_type": "execute_result",
     "data": {
      "text/plain": "  rank                               name  age country     time  \\\n0    1  Miho Takagi                        LSA     JPN  1:50:33   \n1    2  Ireen Wüst                         L30     NED  1:50:92   \n2    3  Evgeniia Lalenkova                 LSA     RUS  1:51:13   \n3    4  Elizaveta Kazelina                 LN4     RUS  1:51:41   \n4    5  Ivanie Blondin                     L30     CAN  1:51:76   \n\n                       track       date datetime   Minutes  \n0  Calgary (CAN)               2/8/2020 00:01:50  1.833333  \n1  Salt Lake City (USA)       2/16/2020 00:01:50  1.833333  \n2  Salt Lake City (USA)       2/16/2020 00:01:51  1.850000  \n3  Salt Lake City (USA)       2/16/2020 00:01:51  1.850000  \n4  Calgary (CAN)               2/8/2020 00:01:51  1.850000  ",
      "text/html": "<div>\n<style scoped>\n    .dataframe tbody tr th:only-of-type {\n        vertical-align: middle;\n    }\n\n    .dataframe tbody tr th {\n        vertical-align: top;\n    }\n\n    .dataframe thead th {\n        text-align: right;\n    }\n</style>\n<table border=\"1\" class=\"dataframe\">\n  <thead>\n    <tr style=\"text-align: right;\">\n      <th></th>\n      <th>rank</th>\n      <th>name</th>\n      <th>age</th>\n      <th>country</th>\n      <th>time</th>\n      <th>track</th>\n      <th>date</th>\n      <th>datetime</th>\n      <th>Minutes</th>\n    </tr>\n  </thead>\n  <tbody>\n    <tr>\n      <th>0</th>\n      <td>1</td>\n      <td>Miho Takagi</td>\n      <td>LSA</td>\n      <td>JPN</td>\n      <td>1:50:33</td>\n      <td>Calgary (CAN)</td>\n      <td>2/8/2020</td>\n      <td>00:01:50</td>\n      <td>1.833333</td>\n    </tr>\n    <tr>\n      <th>1</th>\n      <td>2</td>\n      <td>Ireen Wüst</td>\n      <td>L30</td>\n      <td>NED</td>\n      <td>1:50:92</td>\n      <td>Salt Lake City (USA)</td>\n      <td>2/16/2020</td>\n      <td>00:01:50</td>\n      <td>1.833333</td>\n    </tr>\n    <tr>\n      <th>2</th>\n      <td>3</td>\n      <td>Evgeniia Lalenkova</td>\n      <td>LSA</td>\n      <td>RUS</td>\n      <td>1:51:13</td>\n      <td>Salt Lake City (USA)</td>\n      <td>2/16/2020</td>\n      <td>00:01:51</td>\n      <td>1.850000</td>\n    </tr>\n    <tr>\n      <th>3</th>\n      <td>4</td>\n      <td>Elizaveta Kazelina</td>\n      <td>LN4</td>\n      <td>RUS</td>\n      <td>1:51:41</td>\n      <td>Salt Lake City (USA)</td>\n      <td>2/16/2020</td>\n      <td>00:01:51</td>\n      <td>1.850000</td>\n    </tr>\n    <tr>\n      <th>4</th>\n      <td>5</td>\n      <td>Ivanie Blondin</td>\n      <td>L30</td>\n      <td>CAN</td>\n      <td>1:51:76</td>\n      <td>Calgary (CAN)</td>\n      <td>2/8/2020</td>\n      <td>00:01:51</td>\n      <td>1.850000</td>\n    </tr>\n  </tbody>\n</table>\n</div>"
     },
     "metadata": {},
     "execution_count": 3
    }
   ],
   "source": [
    "def convert_date_string_to_datetime(time_string):\n",
    "    t=datetime.strptime(time_string, \"%M:%S:%f\")\n",
    "    delta = timedelta(minutes=t.minute,seconds=t.second)\n",
    "    return delta\n",
    "\n",
    "\n",
    "results['datetime']= results['time'].apply(convert_date_string_to_datetime)\n",
    "results['Minutes'] = results['datetime'].dt.seconds/60\n",
    "#df[['Place' ,'Age', 'Bib No']] = df[['Place' ,'Age', 'Bib No']].astype(int)\n",
    "results = results.sort_values(by = 'datetime').reset_index(drop=True)\n",
    "\n",
    "results.head()"
   ]
  },
  {
   "cell_type": "code",
   "execution_count": null,
   "metadata": {},
   "outputs": [],
   "source": []
  },
  {
   "cell_type": "code",
   "execution_count": null,
   "metadata": {},
   "outputs": [],
   "source": []
  },
  {
   "cell_type": "markdown",
   "metadata": {},
   "source": [
    "# Trying to convert to seconds."
   ]
  },
  {
   "cell_type": "markdown",
   "metadata": {},
   "source": [
    "### Convert time to proper form and cast to float save for later\n",
    "#results['time']= results['time'].str.replace(',', '')"
   ]
  },
  {
   "cell_type": "code",
   "execution_count": null,
   "metadata": {},
   "outputs": [],
   "source": []
  },
  {
   "cell_type": "markdown",
   "metadata": {},
   "source": [
    "# Goal-manipulate time format\n",
    "most promising methods below"
   ]
  },
  {
   "cell_type": "code",
   "execution_count": null,
   "metadata": {},
   "outputs": [],
   "source": []
  },
  {
   "cell_type": "code",
   "execution_count": null,
   "metadata": {},
   "outputs": [],
   "source": []
  },
  {
   "cell_type": "code",
   "execution_count": 10,
   "metadata": {},
   "outputs": [
    {
     "output_type": "execute_result",
     "data": {
      "text/plain": "array([['L30', 48],\n       ['L35', 37],\n       ['L40', 34],\n       ['L45', 52],\n       ['L50', 50],\n       ['L55', 33],\n       ['L60', 28],\n       ['L65', 11],\n       ['L70', 6],\n       ['L75', 3],\n       ['L80', 1],\n       ['LA1', 203],\n       ['LA2', 167],\n       ['LB1', 356],\n       ['LB2', 298],\n       ['LC1', 388],\n       ['LC2', 404],\n       ['LN1', 103],\n       ['LN2', 105],\n       ['LN3', 82],\n       ['LN4', 58],\n       ['LSA', 209],\n       ['LYA', 105],\n       ['LYB', 32],\n       ['LYC', 12],\n       ['LYD', 10],\n       ['LYE', 2],\n       ['LYF', 1]], dtype=object)"
     },
     "metadata": {},
     "execution_count": 27
    }
   ],
   "source": [
    "age = results.groupby('age').count().reset_index()\n",
    "# Just select needed column\n",
    "age = age[['age','rank']].copy()\n",
    "#Rename columns\n",
    "age.columns=[['age','count']]\n",
    "# age.drop.iloc[11] TODO delete unknown age\n",
    "age.values"
   ]
  },
  {
   "cell_type": "code",
   "execution_count": null,
   "metadata": {},
   "outputs": [],
   "source": [
    "# find a repalce for age\n",
    "\n",
    "age_group = results.replace({'age': {0: 100, 4: 400}})"
   ]
  },
  {
   "cell_type": "code",
   "execution_count": null,
   "metadata": {},
   "outputs": [],
   "source": [
    "# TODO FIX PLOT\n",
    "ax = age.plot(x='age',y='count',figsize=(10,5),grid=True,title='Country Count Ladies 1500')"
   ]
  },
  {
   "cell_type": "markdown",
   "metadata": {},
   "source": [
    "# Visulize 1500 Time"
   ]
  },
  {
   "cell_type": "code",
   "execution_count": null,
   "metadata": {},
   "outputs": [],
   "source": [
    "# Plot Stats for Time\n",
    "sns.set_style('darkgrid')\n",
    "sns.violinplot(data=results['Minutes'],color='c',inner='quartile').set_title('Global 1500 Meters Times')"
   ]
  },
  {
   "cell_type": "code",
   "execution_count": null,
   "metadata": {},
   "outputs": [],
   "source": [
    "results.dtypes"
   ]
  },
  {
   "cell_type": "code",
   "execution_count": null,
   "metadata": {},
   "outputs": [],
   "source": [
    "# scatterplot\n",
    "sns.scatterplot(x='age',y='Minutes',date=results)"
   ]
  },
  {
   "cell_type": "code",
   "execution_count": null,
   "metadata": {},
   "outputs": [],
   "source": [
    "plot = results[0:]\n",
    "ax = plot.plot(x='name',y='time',grid=True)\n"
   ]
  },
  {
   "cell_type": "code",
   "execution_count": null,
   "metadata": {},
   "outputs": [],
   "source": [
    "141.8323/60"
   ]
  },
  {
   "cell_type": "markdown",
   "metadata": {},
   "source": [
    "# Which Countries have the most speedskaters?"
   ]
  },
  {
   "cell_type": "code",
   "execution_count": null,
   "metadata": {},
   "outputs": [],
   "source": [
    "# Groupby Country\n",
    "country_counts= results.groupby('country').count().reset_index()\n",
    "# Just selected needed columns\n",
    "country_counts= country_counts[['country','rank']].copy()\n",
    "# Rename column\n",
    "country_counts.columns = ['Country','Count']\n",
    "country_counts.tail()\n",
    "# ascending order\n",
    "country_counts.sort_values(by=['Count'])\n",
    "\n",
    "# Now just Display countries over 5 skaters\n",
    "country_counts = country_counts[country_counts['Count']>7]\n",
    "country_counts.dtypes"
   ]
  },
  {
   "cell_type": "markdown",
   "metadata": {},
   "source": [
    "# Visulize Country Count \n",
    "Countires with more then 10 skaters"
   ]
  },
  {
   "cell_type": "code",
   "execution_count": null,
   "metadata": {},
   "outputs": [],
   "source": [
    "# Use Pandas Plot.\n",
    "ax = country_counts.plot.bar(x='Country',y='Count',figsize=(10,5),grid=True,title='Country Count Ladies 1500')"
   ]
  },
  {
   "cell_type": "markdown",
   "metadata": {},
   "source": [
    "# Age Divsions"
   ]
  },
  {
   "cell_type": "code",
   "execution_count": null,
   "metadata": {},
   "outputs": [],
   "source": [
    "# Groupby Age\n",
    "age = results.groupby('age').count().reset_index()\n",
    "# Just select needed column\n",
    "age = age[['age','rank']].copy()\n",
    "#Rename columns\n",
    "age.columns=[['age','count']]\n",
    "# age.drop.iloc[11] TODO delete unknown age\n",
    "age.dtypes\n",
    "age = age[1:3]\n",
    "age"
   ]
  },
  {
   "cell_type": "markdown",
   "metadata": {},
   "source": [
    "# Plot by Age Divsion"
   ]
  },
  {
   "cell_type": "code",
   "execution_count": null,
   "metadata": {},
   "outputs": [],
   "source": [
    "ax = age.plot.bar(x='age',y='count')#,figsize=(10,5),grid=True,title='Age Divsions')\n",
    "ax\n",
    "#TODO FIX"
   ]
  },
  {
   "cell_type": "markdown",
   "metadata": {},
   "source": [
    "# By Track"
   ]
  },
  {
   "cell_type": "code",
   "execution_count": null,
   "metadata": {},
   "outputs": [],
   "source": [
    "# Groupby Track\n",
    "track = results.groupby('track').count().reset_index()\n",
    "track= track[track['rank']>20]"
   ]
  },
  {
   "cell_type": "markdown",
   "metadata": {},
   "source": [
    "# American Times\n",
    "make df for just americans"
   ]
  },
  {
   "cell_type": "code",
   "execution_count": null,
   "metadata": {},
   "outputs": [],
   "source": [
    "usa= results[results['country']=='USA']\n",
    "usa.head()"
   ]
  },
  {
   "cell_type": "code",
   "execution_count": null,
   "metadata": {},
   "outputs": [],
   "source": [
    "usa.head()"
   ]
  },
  {
   "cell_type": "code",
   "execution_count": null,
   "metadata": {},
   "outputs": [],
   "source": [
    "plot = usa[0:8]\n",
    "ax = plot.plot(x='name',y='time',grid=True)"
   ]
  },
  {
   "cell_type": "code",
   "execution_count": null,
   "metadata": {},
   "outputs": [],
   "source": [
    "# USA sumstats\n",
    "\n",
    "stats = usa['time'].describe()\n",
    "stats = stats[3:]\n",
    "stats\n"
   ]
  },
  {
   "cell_type": "markdown",
   "metadata": {},
   "source": [
    "## American 1500 M Quartiles"
   ]
  },
  {
   "cell_type": "code",
   "execution_count": null,
   "metadata": {},
   "outputs": [],
   "source": [
    "ax = stats.plot.bar(stats,figsize=(10,5),grid=True,title='USA 1500 M Quartiles',color='m')"
   ]
  },
  {
   "cell_type": "code",
   "execution_count": null,
   "metadata": {},
   "outputs": [],
   "source": []
  },
  {
   "cell_type": "code",
   "execution_count": null,
   "metadata": {},
   "outputs": [],
   "source": [
    "#top_6 =usa[:6]\n",
    "#top_6\n",
    "\n",
    "\n",
    "top_6['secs']= results['time']*60\n",
    "top_6"
   ]
  },
  {
   "cell_type": "markdown",
   "metadata": {},
   "source": [
    "# Distribution of Times"
   ]
  },
  {
   "cell_type": "code",
   "execution_count": null,
   "metadata": {},
   "outputs": [],
   "source": [
    "#ax = sns.violinplot(x=['times'])\n",
    "\n",
    "#sns.boxplot(data=usa['time'],grid=True)\n",
    "#ax\n",
    "#sns.boxplot(data=results['time'])\n",
    "\n",
    "\n",
    "sns.violinplot(data=results['time'],grid=True)\n",
    "\n",
    "#sns.violinplot(data=corr_df, palette=\"Set3\", bw=.2, cut=1, linewidth=1)\n"
   ]
  },
  {
   "cell_type": "code",
   "execution_count": null,
   "metadata": {},
   "outputs": [],
   "source": [
    "x = usa['time'].tolist()"
   ]
  },
  {
   "cell_type": "code",
   "execution_count": null,
   "metadata": {},
   "outputs": [],
   "source": [
    "sns.violinplot(x,color='r').set_title('USA 1500 Meters')"
   ]
  },
  {
   "cell_type": "code",
   "execution_count": null,
   "metadata": {},
   "outputs": [],
   "source": [
    "ax = track.plot.bar(x=\"track\", y=\"rank\",grid=True,title='Country Count Ladies 1500',markers=True)"
   ]
  },
  {
   "cell_type": "markdown",
   "metadata": {},
   "source": [
    "# Times"
   ]
  },
  {
   "cell_type": "code",
   "execution_count": null,
   "metadata": {},
   "outputs": [],
   "source": [
    "ax = times.plot.line(x='name', y='secs',grid=True,title='1500',rot='45',figsize=(30,3),marker= 'o')\n",
    "ax"
   ]
  },
  {
   "cell_type": "code",
   "execution_count": null,
   "metadata": {},
   "outputs": [],
   "source": [
    "ax = times.plot.line(x='name', y='time',grid=True,title='Country Count Ladies 1500',rot='90',figsize=(10,3))\n",
    "ax"
   ]
  },
  {
   "cell_type": "code",
   "execution_count": null,
   "metadata": {},
   "outputs": [],
   "source": []
  }
 ],
 "metadata": {
  "kernelspec": {
   "display_name": "Python 3",
   "language": "python",
   "name": "python3"
  },
  "language_info": {
   "codemirror_mode": {
    "name": "ipython",
    "version": 3
   },
   "file_extension": ".py",
   "mimetype": "text/x-python",
   "name": "python",
   "nbconvert_exporter": "python",
   "pygments_lexer": "ipython3",
   "version": "3.7.6-final"
  }
 },
 "nbformat": 4,
 "nbformat_minor": 4
}