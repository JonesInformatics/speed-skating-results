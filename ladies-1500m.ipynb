{
 "cells": [
  {
   "cell_type": "markdown",
   "metadata": {},
   "source": [
    " # 2019-2020 Ladies 1500 Meter Results\n",
    " Dataset includes personal best for every skater in the 2019-2020 season for 1500 m."
   ]
  },
  {
   "cell_type": "code",
   "execution_count": 1,
   "metadata": {},
   "outputs": [],
   "source": [
    "import pandas as pd"
   ]
  },
  {
   "cell_type": "code",
   "execution_count": 2,
   "metadata": {},
   "outputs": [
    {
     "data": {
      "text/html": [
       "<div>\n",
       "<style scoped>\n",
       "    .dataframe tbody tr th:only-of-type {\n",
       "        vertical-align: middle;\n",
       "    }\n",
       "\n",
       "    .dataframe tbody tr th {\n",
       "        vertical-align: top;\n",
       "    }\n",
       "\n",
       "    .dataframe thead th {\n",
       "        text-align: right;\n",
       "    }\n",
       "</style>\n",
       "<table border=\"1\" class=\"dataframe\">\n",
       "  <thead>\n",
       "    <tr style=\"text-align: right;\">\n",
       "      <th></th>\n",
       "      <th>rank</th>\n",
       "      <th>name</th>\n",
       "      <th>age</th>\n",
       "      <th>country</th>\n",
       "      <th>time</th>\n",
       "      <th>track</th>\n",
       "      <th>date</th>\n",
       "    </tr>\n",
       "  </thead>\n",
       "  <tbody>\n",
       "    <tr>\n",
       "      <th>0</th>\n",
       "      <td>1</td>\n",
       "      <td>Miho Takagi</td>\n",
       "      <td>LSA</td>\n",
       "      <td>JPN</td>\n",
       "      <td>1.50,33</td>\n",
       "      <td>Calgary (CAN)</td>\n",
       "      <td>2/8/2020</td>\n",
       "    </tr>\n",
       "    <tr>\n",
       "      <th>1</th>\n",
       "      <td>2</td>\n",
       "      <td>Ireen Wüst</td>\n",
       "      <td>L30</td>\n",
       "      <td>NED</td>\n",
       "      <td>1.50,92</td>\n",
       "      <td>Salt Lake City (USA)</td>\n",
       "      <td>2/16/2020</td>\n",
       "    </tr>\n",
       "    <tr>\n",
       "      <th>2</th>\n",
       "      <td>3</td>\n",
       "      <td>Evgeniia Lalenkova</td>\n",
       "      <td>LSA</td>\n",
       "      <td>RUS</td>\n",
       "      <td>1.51,13</td>\n",
       "      <td>Salt Lake City (USA)</td>\n",
       "      <td>2/16/2020</td>\n",
       "    </tr>\n",
       "    <tr>\n",
       "      <th>3</th>\n",
       "      <td>4</td>\n",
       "      <td>Elizaveta Kazelina</td>\n",
       "      <td>LN4</td>\n",
       "      <td>RUS</td>\n",
       "      <td>1.51,41</td>\n",
       "      <td>Salt Lake City (USA)</td>\n",
       "      <td>2/16/2020</td>\n",
       "    </tr>\n",
       "    <tr>\n",
       "      <th>4</th>\n",
       "      <td>5</td>\n",
       "      <td>Ivanie Blondin</td>\n",
       "      <td>L30</td>\n",
       "      <td>CAN</td>\n",
       "      <td>1.51,76</td>\n",
       "      <td>Calgary (CAN)</td>\n",
       "      <td>2/8/2020</td>\n",
       "    </tr>\n",
       "  </tbody>\n",
       "</table>\n",
       "</div>"
      ],
      "text/plain": [
       "  rank                               name  age country      time  \\\n",
       "0    1  Miho Takagi                        LSA     JPN   1.50,33   \n",
       "1    2  Ireen Wüst                         L30     NED   1.50,92   \n",
       "2    3  Evgeniia Lalenkova                 LSA     RUS   1.51,13   \n",
       "3    4  Elizaveta Kazelina                 LN4     RUS   1.51,41   \n",
       "4    5  Ivanie Blondin                     L30     CAN   1.51,76   \n",
       "\n",
       "                       track       date  \n",
       "0  Calgary (CAN)               2/8/2020  \n",
       "1  Salt Lake City (USA)       2/16/2020  \n",
       "2  Salt Lake City (USA)       2/16/2020  \n",
       "3  Salt Lake City (USA)       2/16/2020  \n",
       "4  Calgary (CAN)               2/8/2020  "
      ]
     },
     "execution_count": 2,
     "metadata": {},
     "output_type": "execute_result"
    }
   ],
   "source": [
    "# Load Data\n",
    "results = pd.read_csv('ladies-1500-2019-2020.csv')\n",
    "results.head(5)"
   ]
  },
  {
   "cell_type": "code",
   "execution_count": null,
   "metadata": {},
   "outputs": [],
   "source": [
    "results.groupby('age').count()"
   ]
  },
  {
   "cell_type": "markdown",
   "metadata": {},
   "source": [
    "# Which Countries have the most speedskaters?"
   ]
  },
  {
   "cell_type": "code",
   "execution_count": 18,
   "metadata": {},
   "outputs": [
    {
     "data": {
      "text/plain": [
       "Country    object\n",
       "Count       int64\n",
       "dtype: object"
      ]
     },
     "execution_count": 18,
     "metadata": {},
     "output_type": "execute_result"
    }
   ],
   "source": [
    "# Groupby Country\n",
    "country_counts= results.groupby('country').count().reset_index()\n",
    "# Just selected needed columns\n",
    "country_counts= country_counts[['country','rank']].copy()\n",
    "# Rename column\n",
    "country_counts.columns = ['Country','Count']\n",
    "country_counts.tail()\n",
    "# ascending order\n",
    "country_counts.sort_values(by=['Count'])\n",
    "\n",
    "# Now just Display countries over 5 skaters\n",
    "country_counts = country_counts[country_counts['Count']>10]\n",
    "country_counts.dtypes"
   ]
  },
  {
   "cell_type": "markdown",
   "metadata": {},
   "source": [
    "# Visulize Country Count \n",
    "Countires with more then 10 skaters"
   ]
  },
  {
   "cell_type": "code",
   "execution_count": 5,
   "metadata": {},
   "outputs": [
    {
     "data": {
      "image/png": "[encoded data removed]",
      "text/plain": [
       "<Figure size 720x360 with 1 Axes>"
      ]
     },
     "metadata": {
      "needs_background": "light"
     },
     "output_type": "display_data"
    }
   ],
   "source": [
    "# Use Pandas Plot.\n",
    "ax = country_counts.plot.bar(x='Country',y='Count',figsize=(10,5),grid=True,title='Country Count Ladies 1500')"
   ]
  },
  {
   "cell_type": "markdown",
   "metadata": {},
   "source": [
    "# Age Divsions"
   ]
  },
  {
   "cell_type": "code",
   "execution_count": 19,
   "metadata": {},
   "outputs": [
    {
     "data": {
      "text/plain": [
       "age      object\n",
       "count     int64\n",
       "dtype: object"
      ]
     },
     "execution_count": 19,
     "metadata": {},
     "output_type": "execute_result"
    }
   ],
   "source": [
    "# Groupby Age\n",
    "age = results.groupby('age').count().reset_index()\n",
    "# Just select needed column\n",
    "age = age[['age','rank']].copy()\n",
    "#Rename columns\n",
    "age.columns=[['age','count']]\n",
    "# age.drop.iloc[11] TODO delete unknown age\n",
    "age.dtypes\n"
   ]
  },
  {
   "cell_type": "code",
   "execution_count": null,
   "metadata": {},
   "outputs": [],
   "source": [
    "# Use Pandas Plot.\n",
    "ax = age.plot.bar(x='age',y='count')#,figsize=(10,5),grid=True,title='Age Divsions')\n",
    "ax\n",
    "\n",
    "#TODO fix"
   ]
  },
  {
   "cell_type": "code",
   "execution_count": null,
   "metadata": {},
   "outputs": [],
   "source": []
  }
 ],
 "metadata": {
  "kernelspec": {
   "display_name": "Python 3",
   "language": "python",
   "name": "python3"
  },
  "language_info": {
   "codemirror_mode": {
    "name": "ipython",
    "version": 3
   },
   "file_extension": ".py",
   "mimetype": "text/x-python",
   "name": "python",
   "nbconvert_exporter": "python",
   "pygments_lexer": "ipython3",
   "version": "3.7.6"
  }
 },
 "nbformat": 4,
 "nbformat_minor": 4
}
