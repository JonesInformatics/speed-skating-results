{
 "metadata": {
  "language_info": {
   "codemirror_mode": {
    "name": "ipython",
    "version": 3
   },
   "file_extension": ".py",
   "mimetype": "text/x-python",
   "name": "python",
   "nbconvert_exporter": "python",
   "pygments_lexer": "ipython3",
   "version": "3.7.6-final"
  },
  "orig_nbformat": 2,
  "kernelspec": {
   "name": "python3",
   "display_name": "Python 3"
  }
 },
 "nbformat": 4,
 "nbformat_minor": 2,
 "cells": [
  {
   "cell_type": "code",
   "execution_count": 1,
   "metadata": {},
   "outputs": [],
   "source": [
    "import pandas as pd"
   ]
  },
  {
   "cell_type": "code",
   "execution_count": 3,
   "metadata": {},
   "outputs": [
    {
     "output_type": "execute_result",
     "data": {
      "text/plain": "                name  age country    500_m   1000_m   1500_m   3000_m\n0        Greta MYERS  LB1     USA    42,48      NaN      NaN  4.49,54\n1  Giorgia BIRKELAND  LA1     USA    43,35      NaN      NaN  4.44,31\n2      Jia GRIFFITHS  LB1     USA    45,61  1.32,48  2.22,54      NaN\n3         Ilsa SHOBE  LN2     USA    47,16  1.33,89  2.27,27      NaN\n4          Emily BOS  LC2     USA    50,32  1.43,38      NaN      NaN\n5         Ella CAGLE  LC1     USA    52,98  1.54,08      NaN      NaN\n6        Elise STAVE   L?     USA  1.00,85      NaN      NaN      NaN\n7       Piper ARCAND  LB1     USA  1.20,09      NaN      NaN      NaN",
      "text/html": "<div>\n<style scoped>\n    .dataframe tbody tr th:only-of-type {\n        vertical-align: middle;\n    }\n\n    .dataframe tbody tr th {\n        vertical-align: top;\n    }\n\n    .dataframe thead th {\n        text-align: right;\n    }\n</style>\n<table border=\"1\" class=\"dataframe\">\n  <thead>\n    <tr style=\"text-align: right;\">\n      <th></th>\n      <th>name</th>\n      <th>age</th>\n      <th>country</th>\n      <th>500_m</th>\n      <th>1000_m</th>\n      <th>1500_m</th>\n      <th>3000_m</th>\n    </tr>\n  </thead>\n  <tbody>\n    <tr>\n      <th>0</th>\n      <td>Greta MYERS</td>\n      <td>LB1</td>\n      <td>USA</td>\n      <td>42,48</td>\n      <td>NaN</td>\n      <td>NaN</td>\n      <td>4.49,54</td>\n    </tr>\n    <tr>\n      <th>1</th>\n      <td>Giorgia BIRKELAND</td>\n      <td>LA1</td>\n      <td>USA</td>\n      <td>43,35</td>\n      <td>NaN</td>\n      <td>NaN</td>\n      <td>4.44,31</td>\n    </tr>\n    <tr>\n      <th>2</th>\n      <td>Jia GRIFFITHS</td>\n      <td>LB1</td>\n      <td>USA</td>\n      <td>45,61</td>\n      <td>1.32,48</td>\n      <td>2.22,54</td>\n      <td>NaN</td>\n    </tr>\n    <tr>\n      <th>3</th>\n      <td>Ilsa SHOBE</td>\n      <td>LN2</td>\n      <td>USA</td>\n      <td>47,16</td>\n      <td>1.33,89</td>\n      <td>2.27,27</td>\n      <td>NaN</td>\n    </tr>\n    <tr>\n      <th>4</th>\n      <td>Emily BOS</td>\n      <td>LC2</td>\n      <td>USA</td>\n      <td>50,32</td>\n      <td>1.43,38</td>\n      <td>NaN</td>\n      <td>NaN</td>\n    </tr>\n    <tr>\n      <th>5</th>\n      <td>Ella CAGLE</td>\n      <td>LC1</td>\n      <td>USA</td>\n      <td>52,98</td>\n      <td>1.54,08</td>\n      <td>NaN</td>\n      <td>NaN</td>\n    </tr>\n    <tr>\n      <th>6</th>\n      <td>Elise STAVE</td>\n      <td>L?</td>\n      <td>USA</td>\n      <td>1.00,85</td>\n      <td>NaN</td>\n      <td>NaN</td>\n      <td>NaN</td>\n    </tr>\n    <tr>\n      <th>7</th>\n      <td>Piper ARCAND</td>\n      <td>LB1</td>\n      <td>USA</td>\n      <td>1.20,09</td>\n      <td>NaN</td>\n      <td>NaN</td>\n      <td>NaN</td>\n    </tr>\n  </tbody>\n</table>\n</div>"
     },
     "metadata": {},
     "execution_count": 3
    }
   ],
   "source": [
    "ladies = pd.read_csv('gopher_open_2020.csv')\n",
    "ladies"
   ]
  },
  {
   "cell_type": "code",
   "execution_count": null,
   "metadata": {},
   "outputs": [],
   "source": []
  }
 ]
}